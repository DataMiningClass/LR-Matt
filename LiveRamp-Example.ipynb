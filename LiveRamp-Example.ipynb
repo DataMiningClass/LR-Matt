{
 "cells": [
  {
   "cell_type": "code",
   "execution_count": 1,
   "metadata": {
    "collapsed": true
   },
   "outputs": [],
   "source": [
    "def factorial(n, memo={}):\n",
    "    if n < 2:\n",
    "        return 1\n",
    "    elif n in memo:\n",
    "        return memo[n]\n",
    "    else:\n",
    "        memo[n] = float(n) * factorial(n-1, memo)\n",
    "        return memo[n]\n",
    "    \n",
    "\n"
   ]
  },
  {
   "cell_type": "code",
   "execution_count": 2,
   "metadata": {
    "collapsed": false
   },
   "outputs": [],
   "source": [
    "p = []\n",
    "for i in xrange(1,1000):\n",
    "    p.append(.001*i)"
   ]
  },
  {
   "cell_type": "code",
   "execution_count": 3,
   "metadata": {
    "collapsed": false
   },
   "outputs": [],
   "source": [
    "def binomial(n, x, p):\n",
    "    return float(factorial(n))/(factorial(n-x)*factorial(x)) * (p **(x)) * ((1-p) ** (n-x))\n"
   ]
  },
  {
   "cell_type": "code",
   "execution_count": 4,
   "metadata": {
    "collapsed": false
   },
   "outputs": [],
   "source": [
    "def probability(p, x, n):\n",
    "    summation = 0\n",
    "    for i in range(x, n+1):\n",
    "        summation += binomial(n, i, p)\n",
    "    return summation"
   ]
  },
  {
   "cell_type": "code",
   "execution_count": 5,
   "metadata": {
    "collapsed": false
   },
   "outputs": [],
   "source": [
    "difference = []\n",
    "summation_alpha = []\n",
    "summation_beta = []\n",
    "for prob in p:\n",
    "    summation1 = probability(prob, 2, 3)\n",
    "    summation_alpha.append(summation1)\n",
    "    summation2 = probability(prob, 5, 8)\n",
    "    summation_beta.append(summation2)\n",
    "    "
   ]
  },
  {
   "cell_type": "code",
   "execution_count": 6,
   "metadata": {
    "collapsed": false
   },
   "outputs": [
    {
     "data": {
      "image/png": "[encoded data removed]",
      "text/plain": [
       "<matplotlib.figure.Figure at 0x107c69a90>"
      ]
     },
     "metadata": {},
     "output_type": "display_data"
    }
   ],
   "source": [
    "import numpy as np\n",
    "import matplotlib.pyplot as plt\n",
    "%matplotlib inline\n",
    "\n",
    "\n",
    "plt.scatter(p, \n",
    "            summation_alpha, \n",
    "            color = \"r\", \n",
    "            alpha = 1,\n",
    "            label = \"2 or more success out of 3\")\n",
    "plt.scatter(p, \n",
    "            summation_beta, \n",
    "            color = \"b\", \n",
    "            alpha = 1,\n",
    "            label = \" 5 or more success out of 8\")\n",
    "\n",
    "plt.legend(loc=2)\n",
    "plt.xlabel(\"p - probability of success 1 trial\")\n",
    "plt.ylabel(\"probability of x or more success out of n trials\")\n",
    "plt.show()\n",
    "\n",
    "\n"
   ]
  },
  {
   "cell_type": "code",
   "execution_count": null,
   "metadata": {
    "collapsed": false
   },
   "outputs": [],
   "source": []
  },
  {
   "cell_type": "code",
   "execution_count": null,
   "metadata": {
    "collapsed": false
   },
   "outputs": [],
   "source": []
  },
  {
   "cell_type": "code",
   "execution_count": null,
   "metadata": {
    "collapsed": false
   },
   "outputs": [],
   "source": []
  }
 ],
 "metadata": {
  "kernelspec": {
   "display_name": "Python 2",
   "language": "python",
   "name": "python2"
  },
  "language_info": {
   "codemirror_mode": {
    "name": "ipython",
    "version": 2
   },
   "file_extension": ".py",
   "mimetype": "text/x-python",
   "name": "python",
   "nbconvert_exporter": "python",
   "pygments_lexer": "ipython2",
   "version": "2.7.11"
  }
 },
 "nbformat": 4,
 "nbformat_minor": 0
}
